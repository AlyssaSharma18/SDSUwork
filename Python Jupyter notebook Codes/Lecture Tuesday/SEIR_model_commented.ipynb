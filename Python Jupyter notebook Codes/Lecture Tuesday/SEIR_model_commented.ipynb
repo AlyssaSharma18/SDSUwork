{
 "cells": [
  {
   "cell_type": "markdown",
   "id": "6da70ad7",
   "metadata": {},
   "source": [
    "<center> <h1>SEIR model</h1> </center>\n"
   ]
  },
  {
   "cell_type": "markdown",
   "id": "1ae38ee0",
   "metadata": {},
   "source": [
    "SEIR model is one of the compartmental models which is used in mathematical modelling of infectious diseases. Here, the population is assigned to compartments with labels:\n",
    "- S : Susceptible \n",
    "- E : Exposed \n",
    "- I : Infectious\n",
    "- R : Recovered \n",
    "\n",
    "S is the fraction people who are able to contract the disease. E is the fraction of people who have been infected but are not yet infectious. I is the fraction of people who are capable of transmitting the disease. R is the fraction of people who have been recovered and have become immune. \n",
    "\n",
    "The number of people in S, E, I, R combine to form the population N. \n",
    "- $S + E + I + R = N$\n",
    "\n",
    "Model:  \n",
    "\\begin{align*}\n",
    "\\mathrm{S} \\overset{\\beta }{\\longrightarrow} \\mathrm{E} \\overset{\\gamma}{\\longrightarrow} \\mathrm{I} \\overset{\\alpha}{\\longrightarrow} \\mathrm{R}  \\\\\n",
    "\\end{align*}\n",
    "\n",
    "The infectious rate, \\mathrm{\\beta}, controls the rate of spread which represents the probability of transmitting disease between a susceptible and an exposed individual. The incubation rate,\\mathrm{\\gamma}, is the rate of latent individuals becoming infectious (average duration of incubation is 1/\\mathrm{\\gamma}). Recovery rate, \\mathrm{\\alpha} is the rate at which people recover.\n",
    "\n",
    "Ordinary Differential Equation (ODE):  \n",
    "\\begin{align*}\n",
    "& \\frac{\\mathrm{d}S}{\\mathrm{d}T}= - \\frac{\\beta S I}{N}  \\\\\n",
    "& \\frac{\\mathrm{d}E}{\\mathrm{d}T}=\\frac{\\beta S I}{N} - \\gamma E  \\\\\n",
    "& \\frac{\\mathrm{d}I}{\\mathrm{d}T}= -\\gamma E - \\alpha I  \\\\\n",
    "& \\frac{\\mathrm{d}R}{\\mathrm{d}T}= \\alpha I  \\\\\n",
    "\\end{align*}\n",
    "\n",
    "\n"
   ]
  },
  {
   "cell_type": "markdown",
   "id": "4facc73b",
   "metadata": {},
   "source": [
    "**Background**: When you first get infected with a disease often you might not have symptoms and may not be spreading. This is the latency period. "
   ]
  },
  {
   "cell_type": "markdown",
   "id": "9cba8d31",
   "metadata": {},
   "source": [
    "**Importing necessary libraries**:\n",
    "1. Numpy: NumPy offers comprehensive mathematical functions, random number generators, linear algebra routines, Fourier transforms, and more. [Link](https://numpy.org/)\n",
    "2. scipy: SciPy provides algorithms for optimization, integration, interpolation, eigenvalue problems, algebraic equations, differential equations, statistics and many more. [Link](https://scipy.org/)\n",
    "3. scipy.integrate: The scipy.integrate sub-package provides several integration techniques including an ordinary differential equation integrator. [Link](https://docs.scipy.org/doc/scipy/tutorial/integrate.html)\n",
    "4. matplotlib: Matplotlib is a comprehensive library for creating static, animated, and interactive visualizations in Python. [Link](https://matplotlib.org/)"
   ]
  },
  {
   "cell_type": "code",
   "execution_count": 1,
   "id": "47027b03",
   "metadata": {},
   "outputs": [],
   "source": [
    "import numpy as np\n",
    "from scipy.integrate import odeint\n",
    "import matplotlib.pyplot as plt\n",
    "%matplotlib inline"
   ]
  },
  {
   "cell_type": "markdown",
   "id": "b75522ce",
   "metadata": {},
   "source": [
    "Here N is the total population which is 1000. E0 which are the initially exposed which are 0. We have 10 infected people I0 and 990 susceptible people S0. \n",
    "\n",
    "We see that, S + E + I + R =  990 + 0 + 10 + 0 = 1000 = N, which is the total population. \n",
    "\n",
    "We have assumed beta which is the "
   ]
  },
  {
   "cell_type": "code",
   "execution_count": 2,
   "id": "0b31783a",
   "metadata": {},
   "outputs": [],
   "source": [
    "N = 1000              # total population\n",
    "E0 = 0                # Exposed\n",
    "I0 = 10               # Infectious\n",
    "R0 = 0                # Recovered\n",
    "S0 = 990              # Susceptible\n",
    "\n",
    "# Transition Rates\n",
    "beta = 0.5            # Disease transmission between Susceptible and exposed\n",
    "gamma = 0.3           # Disease transmission between exposed and infectious\n",
    "alpha = 0.3           # Recovery rate\n",
    "\n",
    "# Calculating over the course of one year\n",
    "t = np.linspace(0, 365, 365)  # Returns evenly spaced numbers over an interbal 0 to 365\n",
    "\n",
    "# Convering the ode model to a function\n",
    "# The function SEIR_model takes in y, t, N, beta, gamma and alpha as it's inputs\n",
    "    # y is the array of initial conditions - [S0, R0, I0, R0]\n",
    "    # t is the array of time\n",
    "    # N is the total population \n",
    "    # beta, gamma and alpha are the transition rates\n",
    "\n",
    "# This function returns the system of ode's which we will solve using the odeint function\n",
    "def SEIR_model(y, t, N, beta, gamma, alpha):\n",
    "    S, E, I, R = y\n",
    "    dSdt = -beta*S*I/N                #dS\n",
    "    dEdt = (beta*S*I/N) - gamma*E     #dE\n",
    "    dIdt = gamma*E - alpha*I          #dI\n",
    "    dRdt = alpha*I                    #dR\n",
    "    return dSdt, dEdt, dIdt, dRdt\n"
   ]
  },
  {
   "cell_type": "code",
   "execution_count": 3,
   "id": "1479c527",
   "metadata": {},
   "outputs": [],
   "source": [
    "y0 = S0, E0, I0, R0  # Array of intial conditions (number of susceptible, exposed, infected and recovered people)\n",
    "\n",
    "# Here we are solving the system of equations that we modelled earlier\n",
    "    # SEIR_model is the function that returns derivative balues at requested y and t values as dydt\n",
    "    # y0 are the initial conditions of the differential states\n",
    "    # t is the time points at which the solutions should be reported\n",
    "    # arguments are the input values that our model needs (extra arguments to pass to the function)\n",
    "solve = odeint(SEIR_model, y0, t, args = (N, beta, gamma, alpha))\n",
    "S, E, I, R = solve.T # transposing the matrix\n"
   ]
  },
  {
   "cell_type": "code",
   "execution_count": 5,
   "id": "d2c4863b",
   "metadata": {
    "scrolled": true
   },
   "outputs": [
    {
     "data": {
      "image/png": "[encoded data removed]",
      "text/plain": [
       "<Figure size 432x288 with 1 Axes>"
      ]
     },
     "metadata": {},
     "output_type": "display_data"
    }
   ],
   "source": [
    "# Plotting\n",
    "fig = plt.figure(facecolor='w')\n",
    "ax = fig.add_subplot(111, facecolor='#dddddd', axisbelow=True)\n",
    "ax.plot(t, S, 'b', label='Susceptible')\n",
    "ax.plot(t, E, 'y', label='Exposed')\n",
    "ax.plot(t, I, 'r', label='Infected')\n",
    "ax.plot(t, R, 'g', label='Recovered')\n",
    "ax.set_xlabel('Time')\n",
    "ax.set_ylabel('Number of people')\n",
    "ax.yaxis.set_tick_params(length=0)\n",
    "ax.xaxis.set_tick_params(length=0)\n",
    "legend = ax.legend()\n",
    "legend.get_frame().set_alpha(0.5)"
   ]
  }
 ],
 "metadata": {
  "kernelspec": {
   "display_name": "Python 3 (ipykernel)",
   "language": "python",
   "name": "python3"
  },
  "language_info": {
   "codemirror_mode": {
    "name": "ipython",
    "version": 3
   },
   "file_extension": ".py",
   "mimetype": "text/x-python",
   "name": "python",
   "nbconvert_exporter": "python",
   "pygments_lexer": "ipython3",
   "version": "3.8.11"
  }
 },
 "nbformat": 4,
 "nbformat_minor": 5
}
